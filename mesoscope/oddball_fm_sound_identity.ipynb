{
 "cells": [
  {
   "cell_type": "markdown",
   "id": "d7e3df79",
   "metadata": {},
   "source": [
    "# Extracting timing and identity of sounds (FM oddball paradigm) "
   ]
  },
  {
   "cell_type": "markdown",
   "id": "b151d683",
   "metadata": {},
   "source": [
    "Given the data saved by Spike2 during an oddball paradigm session with FM up and down sweeps, this notebook shows how to extract:\n",
    "1. An array with the onset of each sound presented.\n",
    "2. The identity of each sound (up vs down sweep)."
   ]
  },
  {
   "cell_type": "code",
   "execution_count": 65,
   "id": "06ab541f",
   "metadata": {},
   "outputs": [],
   "source": [
    "import os\n",
    "import numpy as np\n",
    "import scipy.io\n",
    "import h5py\n",
    "import matplotlib.pyplot as plt"
   ]
  },
  {
   "cell_type": "markdown",
   "id": "c9846f61",
   "metadata": {},
   "source": [
    "Let's define a few functions we will use:"
   ]
  },
  {
   "cell_type": "code",
   "execution_count": 66,
   "id": "ebcf0064",
   "metadata": {},
   "outputs": [],
   "source": [
    "def find_onsets(signal, signalThreshold=0.1, periodThreshold=100000):\n",
    "    \"\"\"\n",
    "    Detect onsets in a signal based on an amplitude threshold and  aminimum period.\n",
    "\n",
    "    Args:\n",
    "        signal (numpy.ndarray): The input signal.\n",
    "        signalThreshold (float, optional): The amplitude threshold for detecting onsets.\n",
    "            Defaults to 0.1.\n",
    "        periodThreshold (int, optional): The minimum period between consecutive onsets.\n",
    "            Defaults to 100000.\n",
    "\n",
    "    Returns:\n",
    "        numpy.ndarray: An array containing the indices of detected onsets in the input signal.\n",
    "    \"\"\"\n",
    "    signalDiff = np.diff(signal, prepend=signal[0])\n",
    "    signalOnset = signalDiff > signalThreshold\n",
    "    onsetIndsAll = np.flatnonzero(signalOnset)\n",
    "    onsetDiff = np.diff(onsetIndsAll, prepend=periodThreshold)\n",
    "    repeatedOnsets = onsetDiff < periodThreshold\n",
    "    onsetInds = onsetIndsAll[~repeatedOnsets]\n",
    "    return onsetInds"
   ]
  },
  {
   "cell_type": "code",
   "execution_count": 67,
   "id": "6af300cd",
   "metadata": {},
   "outputs": [],
   "source": [
    "def find_fm_direction(sound, onsetInds, soundDurationInSamples=5000):\n",
    "    \"\"\"\n",
    "    Determine the frequency modulation direction in sound samples around onset indices.\n",
    "\n",
    "    Args:\n",
    "        sound (numpy.ndarray): The sound waveform.\n",
    "        onsetInds (numpy.ndarray): Array of onset indices in the sound waveform.\n",
    "        soundDurationInSamples (int, optional): Duration of the sound after each onset.\n",
    "            Defaults to 5000.\n",
    "\n",
    "    Returns:\n",
    "       numpy.ndarray: Array of integers indicating the frequency modulation direction.\n",
    "       dict: Dictionary mapping labels ('up', 'down') to the integer values (0, 1).\n",
    "    \"\"\"\n",
    "    nTrials = len(onsetInds)\n",
    "    sweepDirectionLabels = {'up':0, 'down':1}  # Define the meaning of zeros and ones\n",
    "    sweepDirection = np.zeros(nTrials, dtype=int)\n",
    "    for indTrial in range(nTrials):\n",
    "        soundFirstHalf = sound[onsetInds[indTrial]:\n",
    "                               onsetInds[indTrial]+soundDurationInSamples//2]\n",
    "        soundSecondHalf = sound[onsetInds[indTrial]+soundDurationInSamples//2:\n",
    "                                onsetInds[indTrial]+soundDurationInSamples]\n",
    "        freqFirstHalf = abs(np.fft.rfft(soundFirstHalf)).argmax()\n",
    "        freqSecondHalf = abs(np.fft.rfft(soundSecondHalf)).argmax()\n",
    "        if freqFirstHalf>freqSecondHalf:\n",
    "            sweepDirection[indTrial] = sweepDirectionLabels['down']\n",
    "        else:\n",
    "            sweepDirection[indTrial] = sweepDirectionLabels['up']\n",
    "    return sweepDirection, sweepDirectionLabels"
   ]
  },
  {
   "cell_type": "markdown",
   "id": "d74315ab",
   "metadata": {},
   "source": [
    "## Read the data"
   ]
  },
  {
   "cell_type": "code",
   "execution_count": 68,
   "id": "1686a2fa",
   "metadata": {},
   "outputs": [],
   "source": [
    "# Define you data path here\n",
    "dataPath = '/data/mesoscope/6998_231122_E295/fm_3_pre_doi/'\n",
    "filename = 'Aud_3.mat'\n",
    "\n",
    "h5file = h5py.File(os.path.join(dataPath, filename))\n",
    "soundWaveform = np.array(h5file['sound']['values']).squeeze()"
   ]
  },
  {
   "cell_type": "markdown",
   "id": "e17f3085",
   "metadata": {},
   "source": [
    "## Estimate the onset of each trial"
   ]
  },
  {
   "cell_type": "code",
   "execution_count": 69,
   "id": "8e0dc4e4",
   "metadata": {},
   "outputs": [],
   "source": [
    "signalThreshold = 0.1  # Amplitude threshold to detect the presence of a sound \n",
    "periodThreshold = 100000  # Minimum number of samples bewteen trials\n",
    "onsetInds = find_onsets(soundWaveform, signalThreshold, periodThreshold)"
   ]
  },
  {
   "cell_type": "markdown",
   "id": "233a3d40",
   "metadata": {},
   "source": [
    "Let's look at the first 8 onsets:"
   ]
  },
  {
   "cell_type": "code",
   "execution_count": 70,
   "id": "5255cb7b",
   "metadata": {},
   "outputs": [
    {
     "name": "stdout",
     "output_type": "stream",
     "text": [
      "[ 227661  375547  525531  675532  825517  975527 1125525 1275558]\n"
     ]
    }
   ],
   "source": [
    "print(onsetInds[:8])"
   ]
  },
  {
   "cell_type": "markdown",
   "id": "6e90dee5",
   "metadata": {},
   "source": [
    "Let's check that it worked by plotting the signal and red lines indicating the sound onset:"
   ]
  },
  {
   "cell_type": "code",
   "execution_count": 71,
   "id": "87b12d2f",
   "metadata": {},
   "outputs": [
    {
     "data": {
      "image/png": "[encoded data removed]",
      "text/plain": [
       "<Figure size 864x144 with 1 Axes>"
      ]
     },
     "metadata": {
      "needs_background": "light"
     },
     "output_type": "display_data"
    }
   ],
   "source": [
    "plt.figure(figsize=(12,2))\n",
    "plt.plot(signal[0:500000]);\n",
    "plt.ylabel('Amplitude')\n",
    "plt.xlabel('Samples')\n",
    "for oneOnset in onsetInds[:2]:\n",
    "    plt.axvline(oneOnset, color='r')"
   ]
  },
  {
   "cell_type": "markdown",
   "id": "aeb135b8",
   "metadata": {},
   "source": [
    "## Find the identify of each sound (FM up or down)"
   ]
  },
  {
   "cell_type": "code",
   "execution_count": 72,
   "id": "96ee821e",
   "metadata": {},
   "outputs": [],
   "source": [
    "soundDurationInSamples = 5000\n",
    "sweepDirection, sweepDirectionLabels = find_fm_direction(sound, onsetInds, soundDurationInSamples=5000)"
   ]
  },
  {
   "cell_type": "markdown",
   "id": "db73742b",
   "metadata": {},
   "source": [
    "We now have an array of zeros and ones indicating sweep direction and an array of strings telling us the meaning of one or zero."
   ]
  },
  {
   "cell_type": "code",
   "execution_count": 73,
   "id": "886e5bf6",
   "metadata": {},
   "outputs": [
    {
     "name": "stdout",
     "output_type": "stream",
     "text": [
      "[1 1 1 1 1 1 1 1 0 1 1 1 1 1 1 1 1 0 1 1 1 1 1 1 1 0 1 1 1 1 1 1 1 1 0 1 1\n",
      " 1 1 1 1 1 1 0 1 1 1 1 1 1 1 1 0 1 1 1 1 1 1 1 1 0 1 1 1 1 1 1 1 1 0 1 1 1\n",
      " 1 1 1 1 1 0 1 1 1 1 1 1 1 0 1 1 1 1 1 1 1 1 1 0 1 1 1 1 1 1 1 1 0 1 1 1 1\n",
      " 1 1 1 1 1 0 1 1 1 1 1 1 1 0 1 1 1 1 1 1 1 1 0 1 1 1 1 1 1 1 0 1 1 1 1 1 1\n",
      " 1 1 0 1 1 1 1 1 1 1 1 0 1 1 1 1 1 1 1 1 0 1 1 1 1 1 1 1 1 0 1 1 1 1 1 1 1\n",
      " 1 0 1 1 1 1 1 1 1 1 0 1 1 1 1 1 1 1 1 1 0 1 1 1 0 0 0 0 0 0 0 0 1 0 0 0 0\n",
      " 0 0 0 1 0 0 0 0 0 0 0 0 1 0 0 0 0 0 0 0 1 0 0 0 0 0 0 0 0 1 0 0 0 0 0 0 0\n",
      " 0 1 0 0 0 0 0 0 0 0 0 1 0 0 0 0 0 0 0 0 1 0 0 0 0 0 0 0 0 0 1 0 0 0 0 0 0\n",
      " 0 1 0 0 0 0 0 0 0 0 1 0 0 0 0 0 0 0 0 0 1 0 0 0 0 0 0 0 1 0 0 0 0 0 0 0 1\n",
      " 0 0 0 0 0 0 0 0 1 0 0 0 0 0 0 0 0 1 0 0 0 0 0 0 0 0 0 1 0 0 0 0 0 0 0 0 1\n",
      " 0 0 0 0 0 0 0 1 0 0 0 0 0 0 0 1 0 0 0 0 0 0 0 0 1 0 0 0 0 0 0 0 0 1 0 0 0\n",
      " 0 0 0 0 0 1 0 0 0]\n"
     ]
    }
   ],
   "source": [
    "print(sweepDirection)"
   ]
  },
  {
   "cell_type": "markdown",
   "id": "97b94076",
   "metadata": {},
   "source": [
    "# Save the results"
   ]
  },
  {
   "cell_type": "code",
   "execution_count": 74,
   "id": "8cccef21",
   "metadata": {},
   "outputs": [],
   "source": [
    "outputFilename = 'soundID.npz'\n",
    "np.savez(os.path.join(dataPath, outputFilename), onsetInds=onsetInds,\n",
    "         sweepDirection=sweepDirection, sweepDirectionLabels=sweepDirectionLabels)"
   ]
  },
  {
   "cell_type": "code",
   "execution_count": null,
   "id": "51a50ed7",
   "metadata": {},
   "outputs": [],
   "source": []
  }
 ],
 "metadata": {
  "kernelspec": {
   "display_name": "Python 3 (ipykernel)",
   "language": "python",
   "name": "python3"
  },
  "language_info": {
   "codemirror_mode": {
    "name": "ipython",
    "version": 3
   },
   "file_extension": ".py",
   "mimetype": "text/x-python",
   "name": "python",
   "nbconvert_exporter": "python",
   "pygments_lexer": "ipython3",
   "version": "3.10.12"
  }
 },
 "nbformat": 4,
 "nbformat_minor": 5
}
